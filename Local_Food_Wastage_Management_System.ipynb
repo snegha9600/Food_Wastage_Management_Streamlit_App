{
 "cells": [
  {
   "cell_type": "markdown",
   "id": "dd0df97a-feb3-4c06-aca2-f29d23ad1465",
   "metadata": {},
   "source": [
    "#### Install Required Packages"
   ]
  },
  {
   "cell_type": "code",
   "execution_count": 1,
   "id": "ea9e6bae-9412-40da-938b-e8dfd8c16063",
   "metadata": {},
   "outputs": [
    {
     "name": "stdout",
     "output_type": "stream",
     "text": [
      "Requirement already satisfied: sqlalchemy in c:\\users\\snegha\\anaconda3\\lib\\site-packages (2.0.34)\n",
      "Requirement already satisfied: psycopg2-binary in c:\\users\\snegha\\anaconda3\\lib\\site-packages (2.9.10)\n",
      "Requirement already satisfied: typing-extensions>=4.6.0 in c:\\users\\snegha\\anaconda3\\lib\\site-packages (from sqlalchemy) (4.11.0)\n",
      "Requirement already satisfied: greenlet!=0.4.17 in c:\\users\\snegha\\anaconda3\\lib\\site-packages (from sqlalchemy) (3.0.1)\n"
     ]
    }
   ],
   "source": [
    "!pip install sqlalchemy psycopg2-binary"
   ]
  },
  {
   "cell_type": "code",
   "execution_count": 7,
   "id": "db73c512-9435-4ccf-a69b-29609c75ed0b",
   "metadata": {},
   "outputs": [],
   "source": [
    "import pandas as pd\n",
    "from sqlalchemy import create_engine\n",
    "from sqlalchemy import text"
   ]
  },
  {
   "cell_type": "markdown",
   "id": "9bb0f5fa-cc69-4908-a063-90f0f262ad77",
   "metadata": {},
   "source": [
    "# 1. Data Preparation"
   ]
  },
  {
   "cell_type": "markdown",
   "id": "276799da-ea47-478a-8fbe-4c032244a890",
   "metadata": {},
   "source": [
    "##  Load CSVs with Pandas"
   ]
  },
  {
   "cell_type": "code",
   "execution_count": 13,
   "id": "fe870bf5-a197-4d81-a271-ab84dd48f649",
   "metadata": {},
   "outputs": [],
   "source": [
    "# Load the CSV files\n",
    "providers_df = pd.read_csv(\"providers_data.csv\")\n",
    "receivers_df = pd.read_csv(\"receivers_data.csv\")\n",
    "food_df = pd.read_csv(\"food_listings_data.csv\", parse_dates=[\"Expiry_Date\"])\n",
    "claims_df = pd.read_csv(\"claims_data.csv\", parse_dates=[\"Timestamp\"])"
   ]
  },
  {
   "cell_type": "code",
   "execution_count": 31,
   "id": "aa874b8d-ff9b-44a6-abb4-119c4622fb69",
   "metadata": {},
   "outputs": [
    {
     "name": "stdout",
     "output_type": "stream",
     "text": [
      "   Provider_ID                         Name           Type  \\\n",
      "0            1             Gonzales-Cochran    Supermarket   \n",
      "1            2  Nielsen, Johnson and Fuller  Grocery Store   \n",
      "2            3                 Miller-Black    Supermarket   \n",
      "3            4   Clark, Prince and Williams  Grocery Store   \n",
      "4            5               Coleman-Farley  Grocery Store   \n",
      "\n",
      "                                             Address            City  \\\n",
      "0  74347 Christopher Extensions\\nAndreamouth, OK ...     New Jessica   \n",
      "1           91228 Hanson Stream\\nWelchtown, OR 27136     East Sheena   \n",
      "2  561 Martinez Point Suite 507\\nGuzmanchester, W...  Lake Jesusview   \n",
      "3     467 Bell Trail Suite 409\\nPort Jesus, IA 61188     Mendezmouth   \n",
      "4  078 Matthew Creek Apt. 319\\nSaraborough, MA 53978   Valentineside   \n",
      "\n",
      "                Contact  \n",
      "0       +1-600-220-0480  \n",
      "1  +1-925-283-8901x6297  \n",
      "2      001-517-295-2206  \n",
      "3      556.944.8935x401  \n",
      "4          193.714.6577  \n"
     ]
    }
   ],
   "source": [
    "# Preview the providers datasets\n",
    "print(providers_df.head())"
   ]
  },
  {
   "cell_type": "code",
   "execution_count": 29,
   "id": "0a2932c3-2b32-44f0-b279-817c3d1d5139",
   "metadata": {},
   "outputs": [
    {
     "name": "stdout",
     "output_type": "stream",
     "text": [
      "   Receiver_ID          Name        Type               City           Contact\n",
      "0            1  Donald Gomez     Shelter     Port Carlburgh     (955)922-5295\n",
      "1            2  Laurie Ramos  Individual         Lewisburgh      761.042.1570\n",
      "2            3  Ashley Mckee         NGO  South Randalltown  691-023-0094x856\n",
      "3            4    Erika Rose         NGO   South Shaneville        8296491111\n",
      "4            5   John Romero  Individual          Bakerport      067.491.0154\n"
     ]
    }
   ],
   "source": [
    "# Preview the receivers datasets\n",
    "print(receivers_df.head())"
   ]
  },
  {
   "cell_type": "code",
   "execution_count": 33,
   "id": "8136f26c-f463-4568-99ba-9b07394b3843",
   "metadata": {},
   "outputs": [
    {
     "name": "stdout",
     "output_type": "stream",
     "text": [
      "   Food_ID Food_Name  Quantity Expiry_Date  Provider_ID     Provider_Type  \\\n",
      "0        1     Bread        43  2025-03-17          110     Grocery Store   \n",
      "1        2      Soup        22  2025-03-24          791     Grocery Store   \n",
      "2        3    Fruits        46  2025-03-28          478  Catering Service   \n",
      "3        4    Fruits        15  2025-03-16          930        Restaurant   \n",
      "4        5      Soup        14  2025-03-19          279        Restaurant   \n",
      "\n",
      "           Location       Food_Type  Meal_Type  \n",
      "0  South Kellyville  Non-Vegetarian  Breakfast  \n",
      "1        West James  Non-Vegetarian     Dinner  \n",
      "2       Lake Regina           Vegan  Breakfast  \n",
      "3         Kellytown           Vegan      Lunch  \n",
      "4        Garciaport           Vegan     Dinner  \n"
     ]
    }
   ],
   "source": [
    "# Preview the food_listings datasets\n",
    "print(food_df.head())"
   ]
  },
  {
   "cell_type": "code",
   "execution_count": 35,
   "id": "4dd93e9d-8de6-49ac-88bb-f12fa3da30aa",
   "metadata": {},
   "outputs": [
    {
     "name": "stdout",
     "output_type": "stream",
     "text": [
      "   Claim_ID  Food_ID  Receiver_ID     Status           Timestamp\n",
      "0         1      164          908    Pending 2025-03-05 05:26:00\n",
      "1         2      353          391  Cancelled 2025-03-11 10:24:00\n",
      "2         3      626          492  Completed 2025-03-21 00:59:00\n",
      "3         4       61          933  Cancelled 2025-03-04 09:08:00\n",
      "4         5      345          229    Pending 2025-03-14 15:17:00\n"
     ]
    }
   ],
   "source": [
    "# Preview the claims datasets\n",
    "print(claims_df.head())"
   ]
  },
  {
   "cell_type": "code",
   "execution_count": 37,
   "id": "7fc3428b-92d5-47c4-b77c-b7ab4e0014bb",
   "metadata": {},
   "outputs": [
    {
     "data": {
      "text/html": [
       "<div>\n",
       "<style scoped>\n",
       "    .dataframe tbody tr th:only-of-type {\n",
       "        vertical-align: middle;\n",
       "    }\n",
       "\n",
       "    .dataframe tbody tr th {\n",
       "        vertical-align: top;\n",
       "    }\n",
       "\n",
       "    .dataframe thead th {\n",
       "        text-align: right;\n",
       "    }\n",
       "</style>\n",
       "<table border=\"1\" class=\"dataframe\">\n",
       "  <thead>\n",
       "    <tr style=\"text-align: right;\">\n",
       "      <th></th>\n",
       "      <th>Provider_ID</th>\n",
       "      <th>Name</th>\n",
       "      <th>Type</th>\n",
       "      <th>Address</th>\n",
       "      <th>City</th>\n",
       "      <th>Contact</th>\n",
       "    </tr>\n",
       "  </thead>\n",
       "  <tbody>\n",
       "    <tr>\n",
       "      <th>0</th>\n",
       "      <td>1</td>\n",
       "      <td>Gonzales-Cochran</td>\n",
       "      <td>Supermarket</td>\n",
       "      <td>74347 Christopher Extensions\\nAndreamouth, OK ...</td>\n",
       "      <td>New Jessica</td>\n",
       "      <td>+1-600-220-0480</td>\n",
       "    </tr>\n",
       "    <tr>\n",
       "      <th>1</th>\n",
       "      <td>2</td>\n",
       "      <td>Nielsen, Johnson and Fuller</td>\n",
       "      <td>Grocery Store</td>\n",
       "      <td>91228 Hanson Stream\\nWelchtown, OR 27136</td>\n",
       "      <td>East Sheena</td>\n",
       "      <td>+1-925-283-8901x6297</td>\n",
       "    </tr>\n",
       "    <tr>\n",
       "      <th>2</th>\n",
       "      <td>3</td>\n",
       "      <td>Miller-Black</td>\n",
       "      <td>Supermarket</td>\n",
       "      <td>561 Martinez Point Suite 507\\nGuzmanchester, W...</td>\n",
       "      <td>Lake Jesusview</td>\n",
       "      <td>001-517-295-2206</td>\n",
       "    </tr>\n",
       "    <tr>\n",
       "      <th>3</th>\n",
       "      <td>4</td>\n",
       "      <td>Clark, Prince and Williams</td>\n",
       "      <td>Grocery Store</td>\n",
       "      <td>467 Bell Trail Suite 409\\nPort Jesus, IA 61188</td>\n",
       "      <td>Mendezmouth</td>\n",
       "      <td>556.944.8935x401</td>\n",
       "    </tr>\n",
       "    <tr>\n",
       "      <th>4</th>\n",
       "      <td>5</td>\n",
       "      <td>Coleman-Farley</td>\n",
       "      <td>Grocery Store</td>\n",
       "      <td>078 Matthew Creek Apt. 319\\nSaraborough, MA 53978</td>\n",
       "      <td>Valentineside</td>\n",
       "      <td>193.714.6577</td>\n",
       "    </tr>\n",
       "    <tr>\n",
       "      <th>...</th>\n",
       "      <td>...</td>\n",
       "      <td>...</td>\n",
       "      <td>...</td>\n",
       "      <td>...</td>\n",
       "      <td>...</td>\n",
       "      <td>...</td>\n",
       "    </tr>\n",
       "    <tr>\n",
       "      <th>995</th>\n",
       "      <td>996</td>\n",
       "      <td>Vasquez, Ruiz and Flowers</td>\n",
       "      <td>Restaurant</td>\n",
       "      <td>84308 Justin Stravenue\\nNew Amberside, NE 53447</td>\n",
       "      <td>Williamview</td>\n",
       "      <td>+1-319-378-7627x0682</td>\n",
       "    </tr>\n",
       "    <tr>\n",
       "      <th>996</th>\n",
       "      <td>997</td>\n",
       "      <td>Garza-Williams</td>\n",
       "      <td>Catering Service</td>\n",
       "      <td>08864 Figueroa Radial Suite 948\\nJennaberg, AZ...</td>\n",
       "      <td>East Rossside</td>\n",
       "      <td>001-924-441-3963x746</td>\n",
       "    </tr>\n",
       "    <tr>\n",
       "      <th>997</th>\n",
       "      <td>998</td>\n",
       "      <td>Novak Group</td>\n",
       "      <td>Grocery Store</td>\n",
       "      <td>934 Zachary Run\\nMelissamouth, WY 02729</td>\n",
       "      <td>Joshuastad</td>\n",
       "      <td>(903)642-1969x3300</td>\n",
       "    </tr>\n",
       "    <tr>\n",
       "      <th>998</th>\n",
       "      <td>999</td>\n",
       "      <td>Moody Ltd</td>\n",
       "      <td>Grocery Store</td>\n",
       "      <td>17580 Ernest Hills\\nLake Michaelmouth, OR 56416</td>\n",
       "      <td>Stevenchester</td>\n",
       "      <td>637.300.3664x4880</td>\n",
       "    </tr>\n",
       "    <tr>\n",
       "      <th>999</th>\n",
       "      <td>1000</td>\n",
       "      <td>Jenkins-Brooks</td>\n",
       "      <td>Restaurant</td>\n",
       "      <td>53390 Evans Rapids Suite 982\\nLake Meghan, MO ...</td>\n",
       "      <td>Brendantown</td>\n",
       "      <td>266-324-3458x95775</td>\n",
       "    </tr>\n",
       "  </tbody>\n",
       "</table>\n",
       "<p>1000 rows × 6 columns</p>\n",
       "</div>"
      ],
      "text/plain": [
       "     Provider_ID                         Name              Type  \\\n",
       "0              1             Gonzales-Cochran       Supermarket   \n",
       "1              2  Nielsen, Johnson and Fuller     Grocery Store   \n",
       "2              3                 Miller-Black       Supermarket   \n",
       "3              4   Clark, Prince and Williams     Grocery Store   \n",
       "4              5               Coleman-Farley     Grocery Store   \n",
       "..           ...                          ...               ...   \n",
       "995          996    Vasquez, Ruiz and Flowers        Restaurant   \n",
       "996          997               Garza-Williams  Catering Service   \n",
       "997          998                  Novak Group     Grocery Store   \n",
       "998          999                    Moody Ltd     Grocery Store   \n",
       "999         1000               Jenkins-Brooks        Restaurant   \n",
       "\n",
       "                                               Address            City  \\\n",
       "0    74347 Christopher Extensions\\nAndreamouth, OK ...     New Jessica   \n",
       "1             91228 Hanson Stream\\nWelchtown, OR 27136     East Sheena   \n",
       "2    561 Martinez Point Suite 507\\nGuzmanchester, W...  Lake Jesusview   \n",
       "3       467 Bell Trail Suite 409\\nPort Jesus, IA 61188     Mendezmouth   \n",
       "4    078 Matthew Creek Apt. 319\\nSaraborough, MA 53978   Valentineside   \n",
       "..                                                 ...             ...   \n",
       "995    84308 Justin Stravenue\\nNew Amberside, NE 53447     Williamview   \n",
       "996  08864 Figueroa Radial Suite 948\\nJennaberg, AZ...   East Rossside   \n",
       "997            934 Zachary Run\\nMelissamouth, WY 02729      Joshuastad   \n",
       "998    17580 Ernest Hills\\nLake Michaelmouth, OR 56416   Stevenchester   \n",
       "999  53390 Evans Rapids Suite 982\\nLake Meghan, MO ...     Brendantown   \n",
       "\n",
       "                  Contact  \n",
       "0         +1-600-220-0480  \n",
       "1    +1-925-283-8901x6297  \n",
       "2        001-517-295-2206  \n",
       "3        556.944.8935x401  \n",
       "4            193.714.6577  \n",
       "..                    ...  \n",
       "995  +1-319-378-7627x0682  \n",
       "996  001-924-441-3963x746  \n",
       "997    (903)642-1969x3300  \n",
       "998     637.300.3664x4880  \n",
       "999    266-324-3458x95775  \n",
       "\n",
       "[1000 rows x 6 columns]"
      ]
     },
     "execution_count": 37,
     "metadata": {},
     "output_type": "execute_result"
    }
   ],
   "source": [
    "providers_df"
   ]
  },
  {
   "cell_type": "code",
   "execution_count": 39,
   "id": "6f078eec-8736-48e5-9b3a-f3f55b4e405d",
   "metadata": {},
   "outputs": [
    {
     "data": {
      "text/html": [
       "<div>\n",
       "<style scoped>\n",
       "    .dataframe tbody tr th:only-of-type {\n",
       "        vertical-align: middle;\n",
       "    }\n",
       "\n",
       "    .dataframe tbody tr th {\n",
       "        vertical-align: top;\n",
       "    }\n",
       "\n",
       "    .dataframe thead th {\n",
       "        text-align: right;\n",
       "    }\n",
       "</style>\n",
       "<table border=\"1\" class=\"dataframe\">\n",
       "  <thead>\n",
       "    <tr style=\"text-align: right;\">\n",
       "      <th></th>\n",
       "      <th>Receiver_ID</th>\n",
       "      <th>Name</th>\n",
       "      <th>Type</th>\n",
       "      <th>City</th>\n",
       "      <th>Contact</th>\n",
       "    </tr>\n",
       "  </thead>\n",
       "  <tbody>\n",
       "    <tr>\n",
       "      <th>0</th>\n",
       "      <td>1</td>\n",
       "      <td>Donald Gomez</td>\n",
       "      <td>Shelter</td>\n",
       "      <td>Port Carlburgh</td>\n",
       "      <td>(955)922-5295</td>\n",
       "    </tr>\n",
       "    <tr>\n",
       "      <th>1</th>\n",
       "      <td>2</td>\n",
       "      <td>Laurie Ramos</td>\n",
       "      <td>Individual</td>\n",
       "      <td>Lewisburgh</td>\n",
       "      <td>761.042.1570</td>\n",
       "    </tr>\n",
       "    <tr>\n",
       "      <th>2</th>\n",
       "      <td>3</td>\n",
       "      <td>Ashley Mckee</td>\n",
       "      <td>NGO</td>\n",
       "      <td>South Randalltown</td>\n",
       "      <td>691-023-0094x856</td>\n",
       "    </tr>\n",
       "    <tr>\n",
       "      <th>3</th>\n",
       "      <td>4</td>\n",
       "      <td>Erika Rose</td>\n",
       "      <td>NGO</td>\n",
       "      <td>South Shaneville</td>\n",
       "      <td>8296491111</td>\n",
       "    </tr>\n",
       "    <tr>\n",
       "      <th>4</th>\n",
       "      <td>5</td>\n",
       "      <td>John Romero</td>\n",
       "      <td>Individual</td>\n",
       "      <td>Bakerport</td>\n",
       "      <td>067.491.0154</td>\n",
       "    </tr>\n",
       "    <tr>\n",
       "      <th>...</th>\n",
       "      <td>...</td>\n",
       "      <td>...</td>\n",
       "      <td>...</td>\n",
       "      <td>...</td>\n",
       "      <td>...</td>\n",
       "    </tr>\n",
       "    <tr>\n",
       "      <th>995</th>\n",
       "      <td>996</td>\n",
       "      <td>Matthew Curtis</td>\n",
       "      <td>Shelter</td>\n",
       "      <td>Lanechester</td>\n",
       "      <td>127-889-4442x1289</td>\n",
       "    </tr>\n",
       "    <tr>\n",
       "      <th>996</th>\n",
       "      <td>997</td>\n",
       "      <td>Amanda Cain</td>\n",
       "      <td>NGO</td>\n",
       "      <td>New Steven</td>\n",
       "      <td>+1-001-491-5601x5316</td>\n",
       "    </tr>\n",
       "    <tr>\n",
       "      <th>997</th>\n",
       "      <td>998</td>\n",
       "      <td>Theodore Briggs</td>\n",
       "      <td>Individual</td>\n",
       "      <td>South Sandra</td>\n",
       "      <td>930-609-9442x5031</td>\n",
       "    </tr>\n",
       "    <tr>\n",
       "      <th>998</th>\n",
       "      <td>999</td>\n",
       "      <td>Cheyenne Ramsey</td>\n",
       "      <td>NGO</td>\n",
       "      <td>Lake Jeffery</td>\n",
       "      <td>001-326-320-4816x15300</td>\n",
       "    </tr>\n",
       "    <tr>\n",
       "      <th>999</th>\n",
       "      <td>1000</td>\n",
       "      <td>April Miller</td>\n",
       "      <td>Shelter</td>\n",
       "      <td>Shelbychester</td>\n",
       "      <td>894-873-2652x23999</td>\n",
       "    </tr>\n",
       "  </tbody>\n",
       "</table>\n",
       "<p>1000 rows × 5 columns</p>\n",
       "</div>"
      ],
      "text/plain": [
       "     Receiver_ID             Name        Type               City  \\\n",
       "0              1     Donald Gomez     Shelter     Port Carlburgh   \n",
       "1              2     Laurie Ramos  Individual         Lewisburgh   \n",
       "2              3     Ashley Mckee         NGO  South Randalltown   \n",
       "3              4       Erika Rose         NGO   South Shaneville   \n",
       "4              5      John Romero  Individual          Bakerport   \n",
       "..           ...              ...         ...                ...   \n",
       "995          996   Matthew Curtis     Shelter        Lanechester   \n",
       "996          997      Amanda Cain         NGO         New Steven   \n",
       "997          998  Theodore Briggs  Individual       South Sandra   \n",
       "998          999  Cheyenne Ramsey         NGO       Lake Jeffery   \n",
       "999         1000     April Miller     Shelter      Shelbychester   \n",
       "\n",
       "                    Contact  \n",
       "0             (955)922-5295  \n",
       "1              761.042.1570  \n",
       "2          691-023-0094x856  \n",
       "3                8296491111  \n",
       "4              067.491.0154  \n",
       "..                      ...  \n",
       "995       127-889-4442x1289  \n",
       "996    +1-001-491-5601x5316  \n",
       "997       930-609-9442x5031  \n",
       "998  001-326-320-4816x15300  \n",
       "999      894-873-2652x23999  \n",
       "\n",
       "[1000 rows x 5 columns]"
      ]
     },
     "execution_count": 39,
     "metadata": {},
     "output_type": "execute_result"
    }
   ],
   "source": [
    "receivers_df"
   ]
  },
  {
   "cell_type": "code",
   "execution_count": 41,
   "id": "5fe43f70-0a81-4b23-9cd8-a89667b57299",
   "metadata": {},
   "outputs": [
    {
     "data": {
      "text/html": [
       "<div>\n",
       "<style scoped>\n",
       "    .dataframe tbody tr th:only-of-type {\n",
       "        vertical-align: middle;\n",
       "    }\n",
       "\n",
       "    .dataframe tbody tr th {\n",
       "        vertical-align: top;\n",
       "    }\n",
       "\n",
       "    .dataframe thead th {\n",
       "        text-align: right;\n",
       "    }\n",
       "</style>\n",
       "<table border=\"1\" class=\"dataframe\">\n",
       "  <thead>\n",
       "    <tr style=\"text-align: right;\">\n",
       "      <th></th>\n",
       "      <th>Food_ID</th>\n",
       "      <th>Food_Name</th>\n",
       "      <th>Quantity</th>\n",
       "      <th>Expiry_Date</th>\n",
       "      <th>Provider_ID</th>\n",
       "      <th>Provider_Type</th>\n",
       "      <th>Location</th>\n",
       "      <th>Food_Type</th>\n",
       "      <th>Meal_Type</th>\n",
       "    </tr>\n",
       "  </thead>\n",
       "  <tbody>\n",
       "    <tr>\n",
       "      <th>0</th>\n",
       "      <td>1</td>\n",
       "      <td>Bread</td>\n",
       "      <td>43</td>\n",
       "      <td>2025-03-17</td>\n",
       "      <td>110</td>\n",
       "      <td>Grocery Store</td>\n",
       "      <td>South Kellyville</td>\n",
       "      <td>Non-Vegetarian</td>\n",
       "      <td>Breakfast</td>\n",
       "    </tr>\n",
       "    <tr>\n",
       "      <th>1</th>\n",
       "      <td>2</td>\n",
       "      <td>Soup</td>\n",
       "      <td>22</td>\n",
       "      <td>2025-03-24</td>\n",
       "      <td>791</td>\n",
       "      <td>Grocery Store</td>\n",
       "      <td>West James</td>\n",
       "      <td>Non-Vegetarian</td>\n",
       "      <td>Dinner</td>\n",
       "    </tr>\n",
       "    <tr>\n",
       "      <th>2</th>\n",
       "      <td>3</td>\n",
       "      <td>Fruits</td>\n",
       "      <td>46</td>\n",
       "      <td>2025-03-28</td>\n",
       "      <td>478</td>\n",
       "      <td>Catering Service</td>\n",
       "      <td>Lake Regina</td>\n",
       "      <td>Vegan</td>\n",
       "      <td>Breakfast</td>\n",
       "    </tr>\n",
       "    <tr>\n",
       "      <th>3</th>\n",
       "      <td>4</td>\n",
       "      <td>Fruits</td>\n",
       "      <td>15</td>\n",
       "      <td>2025-03-16</td>\n",
       "      <td>930</td>\n",
       "      <td>Restaurant</td>\n",
       "      <td>Kellytown</td>\n",
       "      <td>Vegan</td>\n",
       "      <td>Lunch</td>\n",
       "    </tr>\n",
       "    <tr>\n",
       "      <th>4</th>\n",
       "      <td>5</td>\n",
       "      <td>Soup</td>\n",
       "      <td>14</td>\n",
       "      <td>2025-03-19</td>\n",
       "      <td>279</td>\n",
       "      <td>Restaurant</td>\n",
       "      <td>Garciaport</td>\n",
       "      <td>Vegan</td>\n",
       "      <td>Dinner</td>\n",
       "    </tr>\n",
       "    <tr>\n",
       "      <th>...</th>\n",
       "      <td>...</td>\n",
       "      <td>...</td>\n",
       "      <td>...</td>\n",
       "      <td>...</td>\n",
       "      <td>...</td>\n",
       "      <td>...</td>\n",
       "      <td>...</td>\n",
       "      <td>...</td>\n",
       "      <td>...</td>\n",
       "    </tr>\n",
       "    <tr>\n",
       "      <th>995</th>\n",
       "      <td>996</td>\n",
       "      <td>Fish</td>\n",
       "      <td>15</td>\n",
       "      <td>2025-03-30</td>\n",
       "      <td>467</td>\n",
       "      <td>Catering Service</td>\n",
       "      <td>Phillipsfort</td>\n",
       "      <td>Vegan</td>\n",
       "      <td>Breakfast</td>\n",
       "    </tr>\n",
       "    <tr>\n",
       "      <th>996</th>\n",
       "      <td>997</td>\n",
       "      <td>Fish</td>\n",
       "      <td>22</td>\n",
       "      <td>2025-03-18</td>\n",
       "      <td>35</td>\n",
       "      <td>Grocery Store</td>\n",
       "      <td>Andersonmouth</td>\n",
       "      <td>Vegetarian</td>\n",
       "      <td>Breakfast</td>\n",
       "    </tr>\n",
       "    <tr>\n",
       "      <th>997</th>\n",
       "      <td>998</td>\n",
       "      <td>Fruits</td>\n",
       "      <td>6</td>\n",
       "      <td>2025-03-22</td>\n",
       "      <td>444</td>\n",
       "      <td>Restaurant</td>\n",
       "      <td>New Billy</td>\n",
       "      <td>Non-Vegetarian</td>\n",
       "      <td>Dinner</td>\n",
       "    </tr>\n",
       "    <tr>\n",
       "      <th>998</th>\n",
       "      <td>999</td>\n",
       "      <td>Pasta</td>\n",
       "      <td>15</td>\n",
       "      <td>2025-03-30</td>\n",
       "      <td>702</td>\n",
       "      <td>Supermarket</td>\n",
       "      <td>Lake Mistyton</td>\n",
       "      <td>Non-Vegetarian</td>\n",
       "      <td>Lunch</td>\n",
       "    </tr>\n",
       "    <tr>\n",
       "      <th>999</th>\n",
       "      <td>1000</td>\n",
       "      <td>Salad</td>\n",
       "      <td>18</td>\n",
       "      <td>2025-03-19</td>\n",
       "      <td>155</td>\n",
       "      <td>Supermarket</td>\n",
       "      <td>Charlesview</td>\n",
       "      <td>Non-Vegetarian</td>\n",
       "      <td>Dinner</td>\n",
       "    </tr>\n",
       "  </tbody>\n",
       "</table>\n",
       "<p>1000 rows × 9 columns</p>\n",
       "</div>"
      ],
      "text/plain": [
       "     Food_ID Food_Name  Quantity Expiry_Date  Provider_ID     Provider_Type  \\\n",
       "0          1     Bread        43  2025-03-17          110     Grocery Store   \n",
       "1          2      Soup        22  2025-03-24          791     Grocery Store   \n",
       "2          3    Fruits        46  2025-03-28          478  Catering Service   \n",
       "3          4    Fruits        15  2025-03-16          930        Restaurant   \n",
       "4          5      Soup        14  2025-03-19          279        Restaurant   \n",
       "..       ...       ...       ...         ...          ...               ...   \n",
       "995      996      Fish        15  2025-03-30          467  Catering Service   \n",
       "996      997      Fish        22  2025-03-18           35     Grocery Store   \n",
       "997      998    Fruits         6  2025-03-22          444        Restaurant   \n",
       "998      999     Pasta        15  2025-03-30          702       Supermarket   \n",
       "999     1000     Salad        18  2025-03-19          155       Supermarket   \n",
       "\n",
       "             Location       Food_Type  Meal_Type  \n",
       "0    South Kellyville  Non-Vegetarian  Breakfast  \n",
       "1          West James  Non-Vegetarian     Dinner  \n",
       "2         Lake Regina           Vegan  Breakfast  \n",
       "3           Kellytown           Vegan      Lunch  \n",
       "4          Garciaport           Vegan     Dinner  \n",
       "..                ...             ...        ...  \n",
       "995      Phillipsfort           Vegan  Breakfast  \n",
       "996     Andersonmouth      Vegetarian  Breakfast  \n",
       "997         New Billy  Non-Vegetarian     Dinner  \n",
       "998     Lake Mistyton  Non-Vegetarian      Lunch  \n",
       "999       Charlesview  Non-Vegetarian     Dinner  \n",
       "\n",
       "[1000 rows x 9 columns]"
      ]
     },
     "execution_count": 41,
     "metadata": {},
     "output_type": "execute_result"
    }
   ],
   "source": [
    "food_df"
   ]
  },
  {
   "cell_type": "code",
   "execution_count": 43,
   "id": "43cf2eec-1b60-431e-bee9-9ee6219cbf08",
   "metadata": {},
   "outputs": [
    {
     "data": {
      "text/html": [
       "<div>\n",
       "<style scoped>\n",
       "    .dataframe tbody tr th:only-of-type {\n",
       "        vertical-align: middle;\n",
       "    }\n",
       "\n",
       "    .dataframe tbody tr th {\n",
       "        vertical-align: top;\n",
       "    }\n",
       "\n",
       "    .dataframe thead th {\n",
       "        text-align: right;\n",
       "    }\n",
       "</style>\n",
       "<table border=\"1\" class=\"dataframe\">\n",
       "  <thead>\n",
       "    <tr style=\"text-align: right;\">\n",
       "      <th></th>\n",
       "      <th>Claim_ID</th>\n",
       "      <th>Food_ID</th>\n",
       "      <th>Receiver_ID</th>\n",
       "      <th>Status</th>\n",
       "      <th>Timestamp</th>\n",
       "    </tr>\n",
       "  </thead>\n",
       "  <tbody>\n",
       "    <tr>\n",
       "      <th>0</th>\n",
       "      <td>1</td>\n",
       "      <td>164</td>\n",
       "      <td>908</td>\n",
       "      <td>Pending</td>\n",
       "      <td>2025-03-05 05:26:00</td>\n",
       "    </tr>\n",
       "    <tr>\n",
       "      <th>1</th>\n",
       "      <td>2</td>\n",
       "      <td>353</td>\n",
       "      <td>391</td>\n",
       "      <td>Cancelled</td>\n",
       "      <td>2025-03-11 10:24:00</td>\n",
       "    </tr>\n",
       "    <tr>\n",
       "      <th>2</th>\n",
       "      <td>3</td>\n",
       "      <td>626</td>\n",
       "      <td>492</td>\n",
       "      <td>Completed</td>\n",
       "      <td>2025-03-21 00:59:00</td>\n",
       "    </tr>\n",
       "    <tr>\n",
       "      <th>3</th>\n",
       "      <td>4</td>\n",
       "      <td>61</td>\n",
       "      <td>933</td>\n",
       "      <td>Cancelled</td>\n",
       "      <td>2025-03-04 09:08:00</td>\n",
       "    </tr>\n",
       "    <tr>\n",
       "      <th>4</th>\n",
       "      <td>5</td>\n",
       "      <td>345</td>\n",
       "      <td>229</td>\n",
       "      <td>Pending</td>\n",
       "      <td>2025-03-14 15:17:00</td>\n",
       "    </tr>\n",
       "    <tr>\n",
       "      <th>...</th>\n",
       "      <td>...</td>\n",
       "      <td>...</td>\n",
       "      <td>...</td>\n",
       "      <td>...</td>\n",
       "      <td>...</td>\n",
       "    </tr>\n",
       "    <tr>\n",
       "      <th>995</th>\n",
       "      <td>996</td>\n",
       "      <td>855</td>\n",
       "      <td>211</td>\n",
       "      <td>Completed</td>\n",
       "      <td>2025-03-13 19:40:00</td>\n",
       "    </tr>\n",
       "    <tr>\n",
       "      <th>996</th>\n",
       "      <td>997</td>\n",
       "      <td>980</td>\n",
       "      <td>746</td>\n",
       "      <td>Cancelled</td>\n",
       "      <td>2025-03-17 22:04:00</td>\n",
       "    </tr>\n",
       "    <tr>\n",
       "      <th>997</th>\n",
       "      <td>998</td>\n",
       "      <td>832</td>\n",
       "      <td>967</td>\n",
       "      <td>Cancelled</td>\n",
       "      <td>2025-03-13 18:00:00</td>\n",
       "    </tr>\n",
       "    <tr>\n",
       "      <th>998</th>\n",
       "      <td>999</td>\n",
       "      <td>917</td>\n",
       "      <td>90</td>\n",
       "      <td>Completed</td>\n",
       "      <td>2025-03-01 15:31:00</td>\n",
       "    </tr>\n",
       "    <tr>\n",
       "      <th>999</th>\n",
       "      <td>1000</td>\n",
       "      <td>596</td>\n",
       "      <td>950</td>\n",
       "      <td>Cancelled</td>\n",
       "      <td>2025-03-13 12:51:00</td>\n",
       "    </tr>\n",
       "  </tbody>\n",
       "</table>\n",
       "<p>1000 rows × 5 columns</p>\n",
       "</div>"
      ],
      "text/plain": [
       "     Claim_ID  Food_ID  Receiver_ID     Status           Timestamp\n",
       "0           1      164          908    Pending 2025-03-05 05:26:00\n",
       "1           2      353          391  Cancelled 2025-03-11 10:24:00\n",
       "2           3      626          492  Completed 2025-03-21 00:59:00\n",
       "3           4       61          933  Cancelled 2025-03-04 09:08:00\n",
       "4           5      345          229    Pending 2025-03-14 15:17:00\n",
       "..        ...      ...          ...        ...                 ...\n",
       "995       996      855          211  Completed 2025-03-13 19:40:00\n",
       "996       997      980          746  Cancelled 2025-03-17 22:04:00\n",
       "997       998      832          967  Cancelled 2025-03-13 18:00:00\n",
       "998       999      917           90  Completed 2025-03-01 15:31:00\n",
       "999      1000      596          950  Cancelled 2025-03-13 12:51:00\n",
       "\n",
       "[1000 rows x 5 columns]"
      ]
     },
     "execution_count": 43,
     "metadata": {},
     "output_type": "execute_result"
    }
   ],
   "source": [
    "claims_df"
   ]
  },
  {
   "cell_type": "markdown",
   "id": "bcf9477f-769e-4565-8220-134e4f667ecd",
   "metadata": {},
   "source": [
    "## Clean & Format Data Types"
   ]
  },
  {
   "cell_type": "code",
   "execution_count": 47,
   "id": "27f56e54-8234-4393-a07b-d2e82d1030ad",
   "metadata": {},
   "outputs": [],
   "source": [
    "# Convert IDs and numeric columns to integers\n",
    "providers_df[\"Provider_ID\"] = providers_df[\"Provider_ID\"].astype(int)\n",
    "receivers_df[\"Receiver_ID\"] = receivers_df[\"Receiver_ID\"].astype(int)\n",
    "food_df[\"Food_ID\"] = food_df[\"Food_ID\"].astype(int)\n",
    "food_df[\"Quantity\"] = food_df[\"Quantity\"].astype(int)\n",
    "food_df[\"Provider_ID\"] = food_df[\"Provider_ID\"].astype(int)\n",
    "claims_df[\"Claim_ID\"] = claims_df[\"Claim_ID\"].astype(int)\n",
    "claims_df[\"Food_ID\"] = claims_df[\"Food_ID\"].astype(int)\n",
    "claims_df[\"Receiver_ID\"] = claims_df[\"Receiver_ID\"].astype(int)"
   ]
  },
  {
   "cell_type": "code",
   "execution_count": 49,
   "id": "499b494c-b837-4c0d-9f9f-061ae22c61c4",
   "metadata": {},
   "outputs": [],
   "source": [
    "# Ensure string columns are clean\n",
    "string_cols = [\n",
    "    \"Name\", \"Type\", \"Address\", \"City\", \"Contact\",\n",
    "    \"Food_Name\", \"Provider_Type\", \"Location\", \"Food_Type\", \"Meal_Type\", \"Status\"\n",
    "]\n",
    "\n",
    "for df in [providers_df, receivers_df, food_df, claims_df]:\n",
    "    for col in df.columns:\n",
    "        if col in string_cols:\n",
    "            df[col] = df[col].astype(str).str.strip()"
   ]
  },
  {
   "cell_type": "markdown",
   "id": "a6b41e8e-da7a-49f0-a431-9ab67894f058",
   "metadata": {},
   "source": [
    "## Validate Relationships"
   ]
  },
  {
   "cell_type": "code",
   "execution_count": 52,
   "id": "6cb3e711-9128-43c6-bb88-92b0950584d8",
   "metadata": {},
   "outputs": [
    {
     "name": "stdout",
     "output_type": "stream",
     "text": [
      "Invalid Provider_IDs in food_listings: Empty DataFrame\n",
      "Columns: [Food_ID, Food_Name, Quantity, Expiry_Date, Provider_ID, Provider_Type, Location, Food_Type, Meal_Type]\n",
      "Index: []\n"
     ]
    }
   ],
   "source": [
    "# Validate Food.Provider_ID refers to Providers.Provider_ID\n",
    "invalid_provider_ids = food_df[~food_df[\"Provider_ID\"].isin(providers_df[\"Provider_ID\"])]\n",
    "print(\"Invalid Provider_IDs in food_listings:\", invalid_provider_ids)"
   ]
  },
  {
   "cell_type": "code",
   "execution_count": 54,
   "id": "d008b19e-3c74-41b5-a336-de77d7a34b9a",
   "metadata": {},
   "outputs": [
    {
     "name": "stdout",
     "output_type": "stream",
     "text": [
      "Invalid Receiver_IDs in claims: Empty DataFrame\n",
      "Columns: [Claim_ID, Food_ID, Receiver_ID, Status, Timestamp]\n",
      "Index: []\n"
     ]
    }
   ],
   "source": [
    "# Validate Claims.Receiver_ID refers to Receivers.Receiver_ID\n",
    "invalid_receiver_ids = claims_df[~claims_df[\"Receiver_ID\"].isin(receivers_df[\"Receiver_ID\"])]\n",
    "print(\"Invalid Receiver_IDs in claims:\", invalid_receiver_ids)"
   ]
  },
  {
   "cell_type": "code",
   "execution_count": 56,
   "id": "38ff9000-f711-48b4-aa32-ae73d73cc667",
   "metadata": {},
   "outputs": [
    {
     "name": "stdout",
     "output_type": "stream",
     "text": [
      "Invalid Food_IDs in claims: Empty DataFrame\n",
      "Columns: [Claim_ID, Food_ID, Receiver_ID, Status, Timestamp]\n",
      "Index: []\n"
     ]
    }
   ],
   "source": [
    "# Validate Claims.Food_ID refers to Food.Food_ID\n",
    "invalid_food_ids = claims_df[~claims_df[\"Food_ID\"].isin(food_df[\"Food_ID\"])]\n",
    "print(\"Invalid Food_IDs in claims:\", invalid_food_ids)"
   ]
  },
  {
   "cell_type": "markdown",
   "id": "afb13b77-f563-460c-91ff-ab3b422951d5",
   "metadata": {},
   "source": [
    "## Handle Missing or Null Values"
   ]
  },
  {
   "cell_type": "code",
   "execution_count": 59,
   "id": "228cff7d-e577-466f-9850-a8a5e0a48823",
   "metadata": {},
   "outputs": [
    {
     "name": "stdout",
     "output_type": "stream",
     "text": [
      "Food_ID          0\n",
      "Food_Name        0\n",
      "Quantity         0\n",
      "Expiry_Date      0\n",
      "Provider_ID      0\n",
      "Provider_Type    0\n",
      "Location         0\n",
      "Food_Type        0\n",
      "Meal_Type        0\n",
      "dtype: int64\n"
     ]
    }
   ],
   "source": [
    "# Check and fill or drop missing values\n",
    "print(food_df.isnull().sum())\n",
    "food_df = food_df.dropna()\n"
   ]
  },
  {
   "cell_type": "markdown",
   "id": "2fb9143d-92f9-43d2-aea4-db3b07c8bcc2",
   "metadata": {},
   "source": [
    "# 2. Database Design and SQL Setup"
   ]
  },
  {
   "cell_type": "markdown",
   "id": "e5e74593-33e0-42ed-a03d-37fec07f15ff",
   "metadata": {},
   "source": [
    "## Setup Database Connection"
   ]
  },
  {
   "cell_type": "code",
   "execution_count": 63,
   "id": "198aa74a-9e4d-4756-99a0-c5c2b668a495",
   "metadata": {},
   "outputs": [
    {
     "name": "stdout",
     "output_type": "stream",
     "text": [
      "Connected to PostgreSQL database successfully!\n"
     ]
    }
   ],
   "source": [
    "# Define PostgreSQL credentials\n",
    "username = 'postgres'\n",
    "password = 'guvi'\n",
    "host = 'localhost'       \n",
    "port = '5432'             \n",
    "database = 'food_management_db'\n",
    "\n",
    "# Create the connection string\n",
    "connection_string = f'postgresql+psycopg2://{username}:{password}@{host}:{port}/{database}'\n",
    "\n",
    "# Create the SQLAlchemy engine\n",
    "engine = create_engine(connection_string)\n",
    "\n",
    "# Test the connection\n",
    "try:\n",
    "    with engine.connect() as connection:\n",
    "        print(\"Connected to PostgreSQL database successfully!\")\n",
    "except Exception as e:\n",
    "    print(\"Connection failed:\", e)\n"
   ]
  },
  {
   "cell_type": "markdown",
   "id": "ed89dae2-6539-435d-9639-8b9250bea0dc",
   "metadata": {},
   "source": [
    "## PostgreSQL SQL Schema(Create Tables)"
   ]
  },
  {
   "cell_type": "code",
   "execution_count": 66,
   "id": "fd07facb-bda6-48fb-94d7-185705931f42",
   "metadata": {},
   "outputs": [
    {
     "name": "stdout",
     "output_type": "stream",
     "text": [
      "Tables created successfully!\n"
     ]
    }
   ],
   "source": [
    "# Create Tables\n",
    "schema_sql = \"\"\"\n",
    "-- Table: providers\n",
    "CREATE TABLE IF NOT EXISTS providers (\n",
    "    Provider_ID INTEGER PRIMARY KEY,\n",
    "    Name TEXT NOT NULL,\n",
    "    Type TEXT,\n",
    "    Address TEXT,\n",
    "    City TEXT,\n",
    "    Contact TEXT\n",
    ");\n",
    "\n",
    "-- Table: receivers\n",
    "CREATE TABLE IF NOT EXISTS receivers (\n",
    "    Receiver_ID INTEGER PRIMARY KEY,\n",
    "    Name TEXT NOT NULL,\n",
    "    Type TEXT,\n",
    "    City TEXT,\n",
    "    Contact TEXT\n",
    ");\n",
    "\n",
    "-- Table: food_listings\n",
    "CREATE TABLE IF NOT EXISTS food_listings (\n",
    "    Food_ID INTEGER PRIMARY KEY,\n",
    "    Food_Name TEXT,\n",
    "    Quantity INTEGER,\n",
    "    Expiry_Date DATE,\n",
    "    Provider_ID INTEGER REFERENCES providers(Provider_ID) ON DELETE CASCADE,\n",
    "    Provider_Type TEXT,\n",
    "    Location TEXT,\n",
    "    Food_Type TEXT,\n",
    "    Meal_Type TEXT\n",
    ");\n",
    "\n",
    "-- Table: claims\n",
    "CREATE TABLE IF NOT EXISTS claims (\n",
    "    Claim_ID INTEGER PRIMARY KEY,\n",
    "    Food_ID INTEGER REFERENCES food_listings(Food_ID) ON DELETE CASCADE,\n",
    "    Receiver_ID INTEGER REFERENCES receivers(Receiver_ID) ON DELETE CASCADE,\n",
    "    Status TEXT,\n",
    "    Timestamp TIMESTAMP\n",
    ");\n",
    "\"\"\"\n",
    "\n",
    "# Execute the SQL\n",
    "with engine.connect() as conn:\n",
    "    conn.execute(text(schema_sql))\n",
    "    print(\"Tables created successfully!\")\n"
   ]
  },
  {
   "cell_type": "markdown",
   "id": "a6f89d68-f5dd-4a17-9755-6f8652d38de8",
   "metadata": {},
   "source": [
    "## Python Script to Insert Data into PostgreSQL"
   ]
  },
  {
   "cell_type": "code",
   "execution_count": 73,
   "id": "04b0bb56-1055-4e61-b791-306661da762c",
   "metadata": {},
   "outputs": [
    {
     "name": "stdout",
     "output_type": "stream",
     "text": [
      "Data inserted into PostgreSQL successfully.\n"
     ]
    }
   ],
   "source": [
    "# Insert data into each table\n",
    "providers_df.to_sql(\"providers\", engine, if_exists=\"append\", index=False)\n",
    "receivers_df.to_sql(\"receivers\", engine, if_exists=\"append\", index=False)\n",
    "food_df.to_sql(\"food_listings\", engine, if_exists=\"append\", index=False)\n",
    "claims_df.to_sql(\"claims\", engine, if_exists=\"append\", index=False)\n",
    "\n",
    "print(\"Data inserted into PostgreSQL successfully.\")\n"
   ]
  },
  {
   "cell_type": "code",
   "execution_count": 75,
   "id": "3714ab29-d051-4855-a158-0ab437405345",
   "metadata": {},
   "outputs": [
    {
     "name": "stdout",
     "output_type": "stream",
     "text": [
      "(1, 'Gonzales-Cochran', 'Supermarket', '74347 Christopher Extensions\\nAndreamouth, OK 91839', 'New Jessica', '+1-600-220-0480')\n",
      "(2, 'Nielsen, Johnson and Fuller', 'Grocery Store', '91228 Hanson Stream\\nWelchtown, OR 27136', 'East Sheena', '+1-925-283-8901x6297')\n",
      "(3, 'Miller-Black', 'Supermarket', '561 Martinez Point Suite 507\\nGuzmanchester, WA 94320', 'Lake Jesusview', '001-517-295-2206')\n",
      "(4, 'Clark, Prince and Williams', 'Grocery Store', '467 Bell Trail Suite 409\\nPort Jesus, IA 61188', 'Mendezmouth', '556.944.8935x401')\n",
      "(5, 'Coleman-Farley', 'Grocery Store', '078 Matthew Creek Apt. 319\\nSaraborough, MA 53978', 'Valentineside', '193.714.6577')\n"
     ]
    }
   ],
   "source": [
    "# Query a few rows from providers table\n",
    "with engine.connect() as conn:\n",
    "    result = conn.execute(text(\"SELECT * FROM providers LIMIT 5\"))\n",
    "    for row in result:\n",
    "        print(row)"
   ]
  },
  {
   "cell_type": "code",
   "execution_count": 77,
   "id": "1426a9e0-8061-40fd-8d26-27aea790ab17",
   "metadata": {},
   "outputs": [
    {
     "name": "stdout",
     "output_type": "stream",
     "text": [
      "(1, 'Donald Gomez', 'Shelter', 'Port Carlburgh', '(955)922-5295')\n",
      "(2, 'Laurie Ramos', 'Individual', 'Lewisburgh', '761.042.1570')\n",
      "(3, 'Ashley Mckee', 'NGO', 'South Randalltown', '691-023-0094x856')\n",
      "(4, 'Erika Rose', 'NGO', 'South Shaneville', '8296491111')\n",
      "(5, 'John Romero', 'Individual', 'Bakerport', '067.491.0154')\n"
     ]
    }
   ],
   "source": [
    "# Query a few rows from receivers table\n",
    "with engine.connect() as conn:\n",
    "    result = conn.execute(text(\"SELECT * FROM receivers LIMIT 5\"))\n",
    "    for row in result:\n",
    "        print(row)"
   ]
  },
  {
   "cell_type": "code",
   "execution_count": 79,
   "id": "73675c13-1de7-43f2-82df-3de15f4df816",
   "metadata": {},
   "outputs": [
    {
     "name": "stdout",
     "output_type": "stream",
     "text": [
      "(1, 'Bread', 43, datetime.datetime(2025, 3, 17, 0, 0), 110, 'Grocery Store', 'South Kellyville', 'Non-Vegetarian', 'Breakfast')\n",
      "(2, 'Soup', 22, datetime.datetime(2025, 3, 24, 0, 0), 791, 'Grocery Store', 'West James', 'Non-Vegetarian', 'Dinner')\n",
      "(3, 'Fruits', 46, datetime.datetime(2025, 3, 28, 0, 0), 478, 'Catering Service', 'Lake Regina', 'Vegan', 'Breakfast')\n",
      "(4, 'Fruits', 15, datetime.datetime(2025, 3, 16, 0, 0), 930, 'Restaurant', 'Kellytown', 'Vegan', 'Lunch')\n",
      "(5, 'Soup', 14, datetime.datetime(2025, 3, 19, 0, 0), 279, 'Restaurant', 'Garciaport', 'Vegan', 'Dinner')\n"
     ]
    }
   ],
   "source": [
    "# Query a few rows from food-listings table\n",
    "with engine.connect() as conn:\n",
    "    result = conn.execute(text(\"SELECT * FROM food_listings LIMIT 5\"))\n",
    "    for row in result:\n",
    "        print(row)"
   ]
  },
  {
   "cell_type": "code",
   "execution_count": 81,
   "id": "c800022a-8acb-48ff-b663-903d1ac8ab6a",
   "metadata": {},
   "outputs": [
    {
     "name": "stdout",
     "output_type": "stream",
     "text": [
      "(1, 164, 908, 'Pending', datetime.datetime(2025, 3, 5, 5, 26))\n",
      "(2, 353, 391, 'Cancelled', datetime.datetime(2025, 3, 11, 10, 24))\n",
      "(3, 626, 492, 'Completed', datetime.datetime(2025, 3, 21, 0, 59))\n",
      "(4, 61, 933, 'Cancelled', datetime.datetime(2025, 3, 4, 9, 8))\n",
      "(5, 345, 229, 'Pending', datetime.datetime(2025, 3, 14, 15, 17))\n"
     ]
    }
   ],
   "source": [
    "# Query a few rows from claims table\n",
    "with engine.connect() as conn:\n",
    "    result = conn.execute(text(\"SELECT * FROM claims LIMIT 5\"))\n",
    "    for row in result:\n",
    "        print(row)"
   ]
  },
  {
   "cell_type": "markdown",
   "id": "7138d4f9-e058-4209-a5bf-e2c91d35a37d",
   "metadata": {},
   "source": [
    "## CRUD Operations"
   ]
  },
  {
   "cell_type": "markdown",
   "id": "0999f6a4-6f14-4b4d-a0de-fbe4792ebf30",
   "metadata": {},
   "source": [
    "### Providers "
   ]
  },
  {
   "cell_type": "markdown",
   "id": "af6f4633-1892-4fdc-8edc-9377d7744f54",
   "metadata": {},
   "source": [
    "#### Create(Insert)"
   ]
  },
  {
   "cell_type": "code",
   "execution_count": 92,
   "id": "8a090df7-a6a5-4638-9858-a65d3d1d1781",
   "metadata": {},
   "outputs": [],
   "source": [
    "def insert_provider(engine, data):\n",
    "    query = \"\"\"\n",
    "    INSERT INTO providers (\"Provider_ID\", \"Name\", \"Type\", \"Address\", \"City\", \"Contact\")\n",
    "    VALUES (:Provider_ID, :Name, :Type, :Address, :City, :Contact)\n",
    "    \"\"\"\n",
    "    with engine.connect() as conn:\n",
    "        conn.execute(text(query), data)\n",
    "        conn.commit()"
   ]
  },
  {
   "cell_type": "code",
   "execution_count": 94,
   "id": "c945d455-53d2-461e-bd10-16fc301d23a1",
   "metadata": {},
   "outputs": [],
   "source": [
    "# Insert a new provider\n",
    "insert_provider(engine, {\n",
    "    \"Provider_ID\": 101,\n",
    "    \"Name\": \"Good Kitchen\",\n",
    "    \"Type\": \"NGO\",\n",
    "    \"Address\": \"45 Street Name\",\n",
    "    \"City\": \"Hyderabad\",\n",
    "    \"Contact\": \"9876543210\"\n",
    "})"
   ]
  },
  {
   "cell_type": "code",
   "execution_count": null,
   "id": "5b10614e-2224-425c-8384-ae3daa37871e",
   "metadata": {},
   "outputs": [],
   "source": [
    "def update_provider(engine, provider_id, new_city):\n",
    "    query = \"UPDATE providers SET City = :City WHERE Provider_ID = :Provider_ID\"\n",
    "    with engine.connect() as conn:\n",
    "        conn.execute(text(query), {\"City\": new_city, \"Provider_ID\": provider_id})\n",
    "        conn.commit()\n",
    "\n",
    "def delete_provider(engine, provider_id):\n",
    "    query = \"DELETE FROM providers WHERE Provider_ID = :Provider_ID\"\n",
    "    with engine.connect() as conn:\n",
    "        conn.execute(text(query), {\"Provider_ID\": provider_id})\n",
    "        conn.commit()\n",
    "\n",
    "def read_providers(engine):\n",
    "    query = \"SELECT * FROM providers\"\n",
    "    with engine.connect() as conn:\n",
    "        result = conn.execute(text(query)).fetchall()\n",
    "        return result\n"
   ]
  },
  {
   "cell_type": "code",
   "execution_count": null,
   "id": "a7a4381a-d557-44cd-b619-e3bf62ac072a",
   "metadata": {},
   "outputs": [],
   "source": [
    "# Read all providers\n",
    "providers = read_providers(engine)\n",
    "for p in providers:\n",
    "    print(p)\n",
    "\n",
    "# Update city for a provider\n",
    "update_provider(engine, 101, \"Bangalore\")\n",
    "\n",
    "# Delete a provider\n",
    "delete_provider(engine, 101)"
   ]
  }
 ],
 "metadata": {
  "kernelspec": {
   "display_name": "Python [conda env:base] *",
   "language": "python",
   "name": "conda-base-py"
  },
  "language_info": {
   "codemirror_mode": {
    "name": "ipython",
    "version": 3
   },
   "file_extension": ".py",
   "mimetype": "text/x-python",
   "name": "python",
   "nbconvert_exporter": "python",
   "pygments_lexer": "ipython3",
   "version": "3.12.7"
  }
 },
 "nbformat": 4,
 "nbformat_minor": 5
}
